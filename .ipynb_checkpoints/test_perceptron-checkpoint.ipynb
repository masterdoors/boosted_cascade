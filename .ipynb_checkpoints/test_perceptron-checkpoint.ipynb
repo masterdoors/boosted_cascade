{
 "cells": [
  {
   "cell_type": "code",
   "execution_count": 11,
   "id": "151e1fea-70d9-4aa8-aa6d-8afdc5a15113",
   "metadata": {},
   "outputs": [],
   "source": [
    "import numpy as np\n",
    "\n",
    "y = np.load(\"data/I5eee5cfbea3b44d4965b0930cf91bf1d.npy\")\n",
    "X = np.load(\"data/X5eee5cfbea3b44d4965b0930cf91bf1d.npy\")"
   ]
  },
  {
   "cell_type": "code",
   "execution_count": 12,
   "id": "e789eed1-b58e-4e5a-9daa-beceb87fe41b",
   "metadata": {},
   "outputs": [
    {
     "data": {
      "text/plain": [
       "(9500, 42)"
      ]
     },
     "execution_count": 12,
     "metadata": {},
     "output_type": "execute_result"
    }
   ],
   "source": [
    "X.shape"
   ]
  },
  {
   "cell_type": "code",
   "execution_count": 13,
   "id": "0dac5573-f111-46a8-9257-85b5a08b41bf",
   "metadata": {},
   "outputs": [],
   "source": [
    "y_n = y.argmax(axis=1)"
   ]
  },
  {
   "cell_type": "code",
   "execution_count": 14,
   "id": "3ebe4340-d749-4d81-b50e-f785fbb58a5f",
   "metadata": {},
   "outputs": [
    {
     "data": {
      "text/plain": [
       "array([2, 5, 6, ..., 6, 5, 6])"
      ]
     },
     "execution_count": 14,
     "metadata": {},
     "output_type": "execute_result"
    }
   ],
   "source": [
    "y_n"
   ]
  },
  {
   "cell_type": "code",
   "execution_count": 15,
   "id": "6295db0f-1dad-4446-9a21-1219facddb2c",
   "metadata": {},
   "outputs": [
    {
     "data": {
      "text/plain": [
       "(9500, 7)"
      ]
     },
     "execution_count": 15,
     "metadata": {},
     "output_type": "execute_result"
    }
   ],
   "source": [
    "y.shape"
   ]
  },
  {
   "cell_type": "code",
   "execution_count": 29,
   "id": "a02e3342-6e15-445b-a635-2965b4b4945e",
   "metadata": {},
   "outputs": [
    {
     "name": "stdout",
     "output_type": "stream",
     "text": [
      "Iteration 1, loss = 1.21390268\n",
      "Iteration 2, loss = 1.01418937\n",
      "Iteration 3, loss = 0.92283593\n",
      "Iteration 4, loss = 0.84109108\n",
      "Iteration 5, loss = 0.76218945\n",
      "Iteration 6, loss = 0.69479118\n",
      "Iteration 7, loss = 0.62387663\n",
      "Iteration 8, loss = 0.56553596\n",
      "Iteration 9, loss = 0.51072052\n",
      "Iteration 10, loss = 0.46662405\n",
      "Iteration 11, loss = 0.42567306\n",
      "Iteration 12, loss = 0.39192898\n",
      "Iteration 13, loss = 0.36449636\n",
      "Iteration 14, loss = 0.33754998\n",
      "Iteration 15, loss = 0.31400522\n",
      "Iteration 16, loss = 0.29933487\n",
      "Iteration 17, loss = 0.28180564\n",
      "Iteration 18, loss = 0.26839562\n",
      "Iteration 19, loss = 0.25280358\n",
      "Iteration 20, loss = 0.24181440\n",
      "Iteration 21, loss = 0.23232846\n",
      "Iteration 22, loss = 0.22046664\n",
      "Iteration 23, loss = 0.21137903\n",
      "Iteration 24, loss = 0.20071605\n",
      "Iteration 25, loss = 0.19547654\n",
      "Iteration 26, loss = 0.18594652\n",
      "Iteration 27, loss = 0.19049547\n",
      "Iteration 28, loss = 0.18068068\n",
      "Iteration 29, loss = 0.16978664\n",
      "Iteration 30, loss = 0.16315131\n",
      "Iteration 31, loss = 0.16058367\n",
      "Iteration 32, loss = 0.15417674\n",
      "Iteration 33, loss = 0.15423011\n",
      "Iteration 34, loss = 0.14695733\n",
      "Iteration 35, loss = 0.13858584\n",
      "Iteration 36, loss = 0.14158664\n",
      "Iteration 37, loss = 0.13731725\n",
      "Iteration 38, loss = 0.12740634\n",
      "Iteration 39, loss = 0.12373398\n",
      "Iteration 40, loss = 0.12963873\n",
      "Iteration 41, loss = 0.12365136\n",
      "Iteration 42, loss = 0.11657383\n",
      "Iteration 43, loss = 0.12230147\n",
      "Iteration 44, loss = 0.11641641\n",
      "Iteration 45, loss = 0.10844012\n",
      "Iteration 46, loss = 0.10902476\n",
      "Iteration 47, loss = 0.10610783\n",
      "Iteration 48, loss = 0.10142863\n",
      "Iteration 49, loss = 0.09897504\n",
      "Iteration 50, loss = 0.09631020\n"
     ]
    },
    {
     "name": "stderr",
     "output_type": "stream",
     "text": [
      "/home/keen/.pyenv/versions/3.8.16/lib/python3.8/site-packages/sklearn/neural_network/_multilayer_perceptron.py:691: ConvergenceWarning: Stochastic Optimizer: Maximum iterations (50) reached and the optimization hasn't converged yet.\n",
      "  warnings.warn(\n"
     ]
    }
   ],
   "source": [
    "from sklearn.neural_network import MLPClassifier\n",
    "\n",
    "clf = MLPClassifier(hidden_layer_sizes = (28,),activation = 'logistic', max_iter=50,verbose=True).fit(X, y_n)\n"
   ]
  },
  {
   "cell_type": "code",
   "execution_count": 30,
   "id": "0ef16a81-73a3-4f7a-ba2c-7619a1918585",
   "metadata": {},
   "outputs": [
    {
     "data": {
      "text/plain": [
       "array([6.07825313e-04, 1.91097630e-03, 1.02457594e-02, 9.87235439e-01])"
      ]
     },
     "execution_count": 30,
     "metadata": {},
     "output_type": "execute_result"
    }
   ],
   "source": [
    "clf.predict_proba(X)[2]"
   ]
  },
  {
   "cell_type": "code",
   "execution_count": 31,
   "id": "5ea29835-2e85-4329-a3d5-2434677eef40",
   "metadata": {},
   "outputs": [
    {
     "data": {
      "text/plain": [
       "5"
      ]
     },
     "execution_count": 31,
     "metadata": {},
     "output_type": "execute_result"
    }
   ],
   "source": [
    "clf.predict(X)[1]"
   ]
  },
  {
   "cell_type": "code",
   "execution_count": 32,
   "id": "760fe985-9c84-4378-ad93-c3c19a449a9a",
   "metadata": {},
   "outputs": [
    {
     "data": {
      "text/plain": [
       "array([0., 0., 0., 0., 0., 0., 1.])"
      ]
     },
     "execution_count": 32,
     "metadata": {},
     "output_type": "execute_result"
    }
   ],
   "source": [
    "y[2]"
   ]
  },
  {
   "cell_type": "code",
   "execution_count": null,
   "id": "e643a0ea-10db-410c-a39b-3ce0706141df",
   "metadata": {},
   "outputs": [],
   "source": []
  }
 ],
 "metadata": {
  "kernelspec": {
   "display_name": "Python 3 (ipykernel)",
   "language": "python",
   "name": "python3"
  },
  "language_info": {
   "codemirror_mode": {
    "name": "ipython",
    "version": 3
   },
   "file_extension": ".py",
   "mimetype": "text/x-python",
   "name": "python",
   "nbconvert_exporter": "python",
   "pygments_lexer": "ipython3",
   "version": "3.8.16"
  }
 },
 "nbformat": 4,
 "nbformat_minor": 5
}
