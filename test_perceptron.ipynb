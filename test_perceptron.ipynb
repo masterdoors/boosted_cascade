{
 "cells": [
  {
   "cell_type": "code",
   "execution_count": 1,
   "id": "151e1fea-70d9-4aa8-aa6d-8afdc5a15113",
   "metadata": {},
   "outputs": [],
   "source": [
    "import numpy as np\n",
    "\n",
    "y = np.load(\"data/I.npy\")\n",
    "X = np.load(\"data/X.npy\")"
   ]
  },
  {
   "cell_type": "code",
   "execution_count": 2,
   "id": "e789eed1-b58e-4e5a-9daa-beceb87fe41b",
   "metadata": {},
   "outputs": [
    {
     "data": {
      "text/plain": [
       "(400, 19, 42)"
      ]
     },
     "execution_count": 2,
     "metadata": {},
     "output_type": "execute_result"
    }
   ],
   "source": [
    "X.shape"
   ]
  },
  {
   "cell_type": "code",
   "execution_count": 5,
   "id": "a02e3342-6e15-445b-a635-2965b4b4945e",
   "metadata": {},
   "outputs": [
    {
     "name": "stdout",
     "output_type": "stream",
     "text": [
      "RNN Init has been called...\n",
      "Iteration 1, loss = 0.69376359\n",
      "Iteration 2, loss = 0.68590452\n",
      "Iteration 3, loss = 0.67814748\n",
      "Iteration 4, loss = 0.67049026\n",
      "Iteration 5, loss = 0.66291867\n",
      "Iteration 6, loss = 0.65543229\n",
      "Iteration 7, loss = 0.64802758\n",
      "Iteration 8, loss = 0.64070386\n",
      "Iteration 9, loss = 0.63346522\n",
      "Iteration 10, loss = 0.62630745\n",
      "Iteration 11, loss = 0.61923406\n",
      "Iteration 12, loss = 0.61224313\n",
      "Iteration 13, loss = 0.60533658\n",
      "Iteration 14, loss = 0.59851304\n",
      "Iteration 15, loss = 0.59177379\n",
      "Iteration 16, loss = 0.58512031\n",
      "Iteration 17, loss = 0.57855146\n",
      "Iteration 18, loss = 0.57207007\n",
      "Iteration 19, loss = 0.56567428\n",
      "Iteration 20, loss = 0.55936597\n",
      "Iteration 21, loss = 0.55314527\n",
      "Iteration 22, loss = 0.54701461\n",
      "Iteration 23, loss = 0.54096852\n",
      "Iteration 24, loss = 0.53501339\n",
      "Iteration 25, loss = 0.52914652\n",
      "Iteration 26, loss = 0.52336880\n",
      "Iteration 27, loss = 0.51768017\n",
      "Iteration 28, loss = 0.51207917\n",
      "Iteration 29, loss = 0.50656788\n",
      "Iteration 30, loss = 0.50114524\n",
      "Iteration 31, loss = 0.49581013\n",
      "Iteration 32, loss = 0.49056350\n",
      "Iteration 33, loss = 0.48540559\n",
      "Iteration 34, loss = 0.48033284\n",
      "Iteration 35, loss = 0.47534927\n",
      "Iteration 36, loss = 0.47044984\n",
      "Iteration 37, loss = 0.46563727\n",
      "Iteration 38, loss = 0.46090920\n",
      "Iteration 39, loss = 0.45626622\n",
      "Iteration 40, loss = 0.45170639\n",
      "Iteration 41, loss = 0.44722968\n",
      "Iteration 42, loss = 0.44283577\n",
      "Iteration 43, loss = 0.43852180\n",
      "Iteration 44, loss = 0.43428830\n",
      "Iteration 45, loss = 0.43013448\n",
      "Iteration 46, loss = 0.42605919\n",
      "Iteration 47, loss = 0.42206159\n",
      "Iteration 48, loss = 0.41813972\n",
      "Iteration 49, loss = 0.41429303\n",
      "Iteration 50, loss = 0.41052112\n",
      "Iteration 51, loss = 0.40682203\n",
      "Iteration 52, loss = 0.40319446\n",
      "Iteration 53, loss = 0.39963890\n",
      "Iteration 54, loss = 0.39615140\n",
      "Iteration 55, loss = 0.39273824\n",
      "Iteration 56, loss = 0.38938437\n",
      "Iteration 57, loss = 0.38609921\n",
      "Iteration 58, loss = 0.38287990\n",
      "Iteration 59, loss = 0.37972441\n",
      "Iteration 60, loss = 0.37663119\n",
      "Iteration 61, loss = 0.37359774\n",
      "Iteration 62, loss = 0.37062469\n",
      "Iteration 63, loss = 0.36771150\n",
      "Iteration 64, loss = 0.36485250\n",
      "Iteration 65, loss = 0.36205145\n",
      "Iteration 66, loss = 0.35930511\n",
      "Iteration 67, loss = 0.35661211\n",
      "Iteration 68, loss = 0.35396747\n",
      "Iteration 69, loss = 0.35137603\n",
      "Iteration 70, loss = 0.34883379\n",
      "Iteration 71, loss = 0.34633925\n",
      "Iteration 72, loss = 0.34389083\n",
      "Iteration 73, loss = 0.34148784\n",
      "Iteration 74, loss = 0.33912856\n",
      "Iteration 75, loss = 0.33681191\n",
      "Iteration 76, loss = 0.33453645\n",
      "Iteration 77, loss = 0.33230138\n",
      "Iteration 78, loss = 0.33010417\n",
      "Iteration 79, loss = 0.32794655\n",
      "Iteration 80, loss = 0.32582243\n",
      "Iteration 81, loss = 0.32373541\n",
      "Iteration 82, loss = 0.32168123\n",
      "Iteration 83, loss = 0.31966083\n",
      "Iteration 84, loss = 0.31767115\n",
      "Iteration 85, loss = 0.31571531\n",
      "Iteration 86, loss = 0.31378395\n",
      "Iteration 87, loss = 0.31188318\n",
      "Iteration 88, loss = 0.31001211\n",
      "Iteration 89, loss = 0.30816342\n",
      "Iteration 90, loss = 0.30634264\n",
      "Iteration 91, loss = 0.30454901\n",
      "Iteration 92, loss = 0.30277208\n",
      "Iteration 93, loss = 0.30102185\n",
      "Iteration 94, loss = 0.29929288\n",
      "Iteration 95, loss = 0.29758497\n",
      "Iteration 96, loss = 0.29589951\n",
      "Iteration 97, loss = 0.29422804\n",
      "Iteration 98, loss = 0.29257695\n",
      "Iteration 99, loss = 0.29094380\n",
      "Iteration 100, loss = 0.28933014\n",
      "Iteration 101, loss = 0.28772878\n",
      "Iteration 102, loss = 0.28614343\n",
      "Iteration 103, loss = 0.28457378\n",
      "Iteration 104, loss = 0.28301863\n",
      "Iteration 105, loss = 0.28147682\n",
      "Iteration 106, loss = 0.27994715\n",
      "Iteration 107, loss = 0.27843043\n",
      "Iteration 108, loss = 0.27692517\n",
      "Iteration 109, loss = 0.27543170\n",
      "Iteration 110, loss = 0.27394903\n",
      "Iteration 111, loss = 0.27247624\n",
      "Iteration 112, loss = 0.27101313\n",
      "Iteration 113, loss = 0.26956110\n",
      "Iteration 114, loss = 0.26811567\n",
      "Iteration 115, loss = 0.26668019\n",
      "Iteration 116, loss = 0.26525325\n",
      "Iteration 117, loss = 0.26383439\n",
      "Iteration 118, loss = 0.26242210\n",
      "Iteration 119, loss = 0.26101882\n",
      "Iteration 120, loss = 0.25962019\n",
      "Iteration 121, loss = 0.25823016\n",
      "Iteration 122, loss = 0.25684597\n",
      "Iteration 123, loss = 0.25546673\n",
      "Iteration 124, loss = 0.25409471\n",
      "Iteration 125, loss = 0.25272830\n",
      "Iteration 126, loss = 0.25136893\n",
      "Iteration 127, loss = 0.25001266\n",
      "Iteration 128, loss = 0.24866146\n",
      "Iteration 129, loss = 0.24731672\n",
      "Iteration 130, loss = 0.24597637\n",
      "Iteration 131, loss = 0.24464123\n",
      "Iteration 132, loss = 0.24331227\n",
      "Iteration 133, loss = 0.24198523\n",
      "Iteration 134, loss = 0.24066275\n",
      "Iteration 135, loss = 0.23934582\n",
      "Iteration 136, loss = 0.23803288\n",
      "Iteration 137, loss = 0.23672593\n",
      "Iteration 138, loss = 0.23542012\n",
      "Iteration 139, loss = 0.23411952\n",
      "Iteration 140, loss = 0.23282377\n",
      "Iteration 141, loss = 0.23153092\n",
      "Iteration 142, loss = 0.23024247\n",
      "Iteration 143, loss = 0.22895787\n",
      "Iteration 144, loss = 0.22767722\n",
      "Iteration 145, loss = 0.22640033\n",
      "Iteration 146, loss = 0.22512723\n",
      "Iteration 147, loss = 0.22385816\n",
      "Iteration 148, loss = 0.22259310\n",
      "Iteration 149, loss = 0.22133216\n",
      "Iteration 150, loss = 0.22007479\n",
      "Iteration 151, loss = 0.21882146\n",
      "Iteration 152, loss = 0.21757256\n",
      "Iteration 153, loss = 0.21632760\n",
      "Iteration 154, loss = 0.21508705\n",
      "Iteration 155, loss = 0.21385091\n",
      "Iteration 156, loss = 0.21261860\n",
      "Iteration 157, loss = 0.21139229\n",
      "Iteration 158, loss = 0.21016783\n",
      "Iteration 159, loss = 0.20894956\n",
      "Iteration 160, loss = 0.20773578\n",
      "Iteration 161, loss = 0.20652670\n",
      "Iteration 162, loss = 0.20532240\n",
      "Iteration 163, loss = 0.20412254\n",
      "Iteration 164, loss = 0.20292776\n",
      "Iteration 165, loss = 0.20173828\n",
      "Iteration 166, loss = 0.20055335\n",
      "Iteration 167, loss = 0.19937384\n",
      "Iteration 168, loss = 0.19819977\n",
      "Iteration 169, loss = 0.19703032\n",
      "Iteration 170, loss = 0.19586666\n",
      "Iteration 171, loss = 0.19470893\n",
      "Iteration 172, loss = 0.19355591\n",
      "Iteration 173, loss = 0.19240885\n",
      "Iteration 174, loss = 0.19126756\n",
      "Iteration 175, loss = 0.19013221\n",
      "Iteration 176, loss = 0.18900286\n",
      "Iteration 177, loss = 0.18787952\n",
      "Iteration 178, loss = 0.18676270\n",
      "Iteration 179, loss = 0.18565055\n",
      "Iteration 180, loss = 0.18454552\n",
      "Iteration 181, loss = 0.18344671\n",
      "Iteration 182, loss = 0.18235435\n",
      "Iteration 183, loss = 0.18126846\n",
      "Iteration 184, loss = 0.18018896\n",
      "Iteration 185, loss = 0.17911628\n",
      "Iteration 186, loss = 0.17804965\n",
      "Iteration 187, loss = 0.17699009\n",
      "Iteration 188, loss = 0.17593714\n",
      "Iteration 189, loss = 0.17489102\n",
      "Iteration 190, loss = 0.17385170\n",
      "Iteration 191, loss = 0.17281941\n",
      "Iteration 192, loss = 0.17179390\n",
      "Iteration 193, loss = 0.17077599\n",
      "Iteration 194, loss = 0.16976504\n",
      "Iteration 195, loss = 0.16876028\n",
      "Iteration 196, loss = 0.16776364\n",
      "Iteration 197, loss = 0.16677384\n",
      "Iteration 198, loss = 0.16579168\n",
      "Iteration 199, loss = 0.16481665\n",
      "Iteration 200, loss = 0.16384910\n"
     ]
    },
    {
     "name": "stderr",
     "output_type": "stream",
     "text": [
      "/data/workspace/sapran/boosted_cascade/boosted_cascade/recurrent_network4.py:605: ConvergenceWarning: Stochastic Optimizer: Maximum iterations (200) reached and the optimization hasn't converged yet.\n",
      "  warnings.warn(\n"
     ]
    },
    {
     "data": {
      "text/html": [
       "<style>#sk-container-id-3 {--sklearn-color-text: black;--sklearn-color-line: gray;--sklearn-color-background: white;--sklearn-color-background-box: #f0f8ff;--sklearn-color-border-box: black;--sklearn-color-icon: #696969;--sklearn-color-active: #d4ebff;--sklearn-color-highlight: #d4ebff;@media (prefers-color-scheme: dark) {--sklearn-color-text: white;--sklearn-color-line: gray;--sklearn-color-background: #111;--sklearn-color-background-box: #424242;--sklearn-color-border-box: white;--sklearn-color-icon: #878787;--sklearn-color-active: #616161;--sklearn-color-highlight: #616161;}}#sk-container-id-3 {color: var(--sklearn-color-text);}#sk-container-id-3 pre{padding: 0;}#sk-container-id-3 div.sk-toggleable {background-color: var(--sklearn-color-background);}#sk-container-id-3 label.sk-toggleable__label {cursor: pointer;display: block;width: 100%;margin-bottom: 0;padding: 0.3em;box-sizing: border-box;text-align: center;}#sk-container-id-3 label.sk-toggleable__label-arrow:before {content: \"▸\";float: left;margin-right: 0.25em;color: var(--sklearn-color-icon);}#sk-container-id-3 label.sk-toggleable__label-arrow:hover:before {color: var(--sklearn-color-text);}#sk-container-id-3 div.sk-estimator:hover label.sk-toggleable__label-arrow:before {color: var(--sklearn-color-text);}#sk-container-id-3 div.sk-toggleable__content {max-height: 0;max-width: 0;overflow: hidden;text-align: left;background-color: var(--sklearn-color-background-box);}#sk-container-id-3 div.sk-toggleable__content pre {margin: 0.2em;color: var(--sklearn-color-text);border-radius: 0.25em;background-color: var(--sklearn-color-background-box);}#sk-container-id-3 input.sk-toggleable__control:checked~div.sk-toggleable__content {max-height: 200px;max-width: 100%;overflow: auto;}#sk-container-id-3 input.sk-toggleable__control:checked~label.sk-toggleable__label-arrow:before {content: \"▾\";}#sk-container-id-3 div.sk-estimator input.sk-toggleable__control:checked~label.sk-toggleable__label {background-color: var(--sklearn-color-active);}#sk-container-id-3 div.sk-label input.sk-toggleable__control:checked~label.sk-toggleable__label {background-color: var(--sklearn-color-active);}#sk-container-id-3 input.sk-hidden--visually {border: 0;clip: rect(1px 1px 1px 1px);clip: rect(1px, 1px, 1px, 1px);height: 1px;margin: -1px;overflow: hidden;padding: 0;position: absolute;width: 1px;}#sk-container-id-3 div.sk-estimator {font-family: monospace;background-color: var(--sklearn-color-background-box);border: 1px dotted var(--sklearn-color-border-box);border-radius: 0.25em;box-sizing: border-box;margin-bottom: 0.5em;}#sk-container-id-3 div.sk-estimator:hover {background-color: var(--sklearn-color-highlight);}#sk-container-id-3 div.sk-parallel-item::after {content: \"\";width: 100%;border-bottom: 1px solid var(--sklearn-color-line);flex-grow: 1;}#sk-container-id-3 div.sk-label:hover label.sk-toggleable__label {background-color: var(--sklearn-color-highlight);}#sk-container-id-3 div.sk-serial::before {content: \"\";position: absolute;border-left: 1px solid var(--sklearn-color-line);box-sizing: border-box;top: 0;bottom: 0;left: 50%;z-index: 0;}#sk-container-id-3 div.sk-serial {display: flex;flex-direction: column;align-items: center;background-color: var(--sklearn-color-background);padding-right: 0.2em;padding-left: 0.2em;position: relative;}#sk-container-id-3 div.sk-item {position: relative;z-index: 1;}#sk-container-id-3 div.sk-parallel {display: flex;align-items: stretch;justify-content: center;background-color: var(--sklearn-color-background);position: relative;}#sk-container-id-3 div.sk-item::before, #sk-container-id-3 div.sk-parallel-item::before {content: \"\";position: absolute;border-left: 1px solid var(--sklearn-color-line);box-sizing: border-box;top: 0;bottom: 0;left: 50%;z-index: -1;}#sk-container-id-3 div.sk-parallel-item {display: flex;flex-direction: column;z-index: 1;position: relative;background-color: var(--sklearn-color-background);}#sk-container-id-3 div.sk-parallel-item:first-child::after {align-self: flex-end;width: 50%;}#sk-container-id-3 div.sk-parallel-item:last-child::after {align-self: flex-start;width: 50%;}#sk-container-id-3 div.sk-parallel-item:only-child::after {width: 0;}#sk-container-id-3 div.sk-dashed-wrapped {border: 1px dashed var(--sklearn-color-line);margin: 0 0.4em 0.5em 0.4em;box-sizing: border-box;padding-bottom: 0.4em;background-color: var(--sklearn-color-background);}#sk-container-id-3 div.sk-label label {font-family: monospace;font-weight: bold;display: inline-block;line-height: 1.2em;}#sk-container-id-3 div.sk-label-container {text-align: center;}#sk-container-id-3 div.sk-container {/* jupyter's `normalize.less` sets `[hidden] { display: none; }` but bootstrap.min.css set `[hidden] { display: none !important; }` so we also need the `!important` here to be able to override the default hidden behavior on the sphinx rendered scikit-learn.org. See: https://github.com/scikit-learn/scikit-learn/issues/21755 */display: inline-block !important;position: relative;}#sk-container-id-3 div.sk-text-repr-fallback {display: none;}</style><div id=\"sk-container-id-3\" class=\"sk-top-container\"><div class=\"sk-text-repr-fallback\"><pre>BiasedRecurrentClassifier(activation=[&#x27;logistic&#x27;, &#x27;identity&#x27;],\n",
       "                          hidden_layer_sizes=(20,), verbose=True)</pre><b>In a Jupyter environment, please rerun this cell to show the HTML representation or trust the notebook. <br />On GitHub, the HTML representation is unable to render, please try loading this page with nbviewer.org.</b></div><div class=\"sk-container\" hidden><div class=\"sk-item\"><div class=\"sk-estimator sk-toggleable\"><input class=\"sk-toggleable__control sk-hidden--visually\" id=\"sk-estimator-id-3\" type=\"checkbox\" checked><label for=\"sk-estimator-id-3\" class=\"sk-toggleable__label sk-toggleable__label-arrow\">BiasedRecurrentClassifier</label><div class=\"sk-toggleable__content\"><pre>BiasedRecurrentClassifier(activation=[&#x27;logistic&#x27;, &#x27;identity&#x27;],\n",
       "                          hidden_layer_sizes=(20,), verbose=True)</pre></div></div></div></div></div>"
      ],
      "text/plain": [
       "BiasedRecurrentClassifier(activation=['logistic', 'identity'],\n",
       "                          hidden_layer_sizes=(20,), verbose=True)"
      ]
     },
     "execution_count": 5,
     "metadata": {},
     "output_type": "execute_result"
    }
   ],
   "source": [
    "from recurrent_network4 import BiasedRecurrentClassifier\n",
    "\n",
    "\n",
    "clf = BiasedRecurrentClassifier(hidden_layer_sizes = (20,),activation=[\"logistic\",\"identity\"], max_iter=200,verbose=True)\n",
    "clf.fit(X, y.reshape((X.shape[0],X.shape[1],y.shape[1])), bias = np.zeros((X.shape[0],X.shape[1],20)))\n"
   ]
  },
  {
   "cell_type": "code",
   "execution_count": 16,
   "id": "0ef16a81-73a3-4f7a-ba2c-7619a1918585",
   "metadata": {},
   "outputs": [
    {
     "data": {
      "text/plain": [
       "0.9849624060150376"
      ]
     },
     "execution_count": 16,
     "metadata": {},
     "output_type": "execute_result"
    }
   ],
   "source": [
    "from scipy.special import expit as logistic_sigmoid\n",
    "from sklearn.metrics import accuracy_score\n",
    "\n",
    "y_pred = np.round(logistic_sigmoid(clf.predict_proba(X)[0])).astype(int).flatten()\n",
    "accuracy_score(y.flatten(),y_pred)"
   ]
  },
  {
   "cell_type": "code",
   "execution_count": null,
   "id": "5ea29835-2e85-4329-a3d5-2434677eef40",
   "metadata": {},
   "outputs": [],
   "source": [
    "clf.predict(X)[1]"
   ]
  },
  {
   "cell_type": "code",
   "execution_count": null,
   "id": "760fe985-9c84-4378-ad93-c3c19a449a9a",
   "metadata": {},
   "outputs": [],
   "source": [
    "y[2]"
   ]
  },
  {
   "cell_type": "code",
   "execution_count": null,
   "id": "e643a0ea-10db-410c-a39b-3ce0706141df",
   "metadata": {},
   "outputs": [],
   "source": []
  }
 ],
 "metadata": {
  "kernelspec": {
   "display_name": "Python 3 (ipykernel)",
   "language": "python",
   "name": "python3"
  },
  "language_info": {
   "codemirror_mode": {
    "name": "ipython",
    "version": 3
   },
   "file_extension": ".py",
   "mimetype": "text/x-python",
   "name": "python",
   "nbconvert_exporter": "python",
   "pygments_lexer": "ipython3",
   "version": "3.8.16"
  }
 },
 "nbformat": 4,
 "nbformat_minor": 5
}
