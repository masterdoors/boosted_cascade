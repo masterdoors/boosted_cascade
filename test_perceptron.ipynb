{
 "cells": [
  {
   "cell_type": "code",
   "execution_count": 17,
   "id": "151e1fea-70d9-4aa8-aa6d-8afdc5a15113",
   "metadata": {},
   "outputs": [],
   "source": [
    "import numpy as np\n",
    "\n",
    "y = np.load(\"data/I.npy\")\n",
    "X = np.load(\"data/X.npy\")"
   ]
  },
  {
   "cell_type": "code",
   "execution_count": 18,
   "id": "e789eed1-b58e-4e5a-9daa-beceb87fe41b",
   "metadata": {},
   "outputs": [
    {
     "data": {
      "text/plain": [
       "(400, 19, 42)"
      ]
     },
     "execution_count": 18,
     "metadata": {},
     "output_type": "execute_result"
    }
   ],
   "source": [
    "X.shape"
   ]
  },
  {
   "cell_type": "code",
   "execution_count": 19,
   "id": "a02e3342-6e15-445b-a635-2965b4b4945e",
   "metadata": {},
   "outputs": [
    {
     "name": "stdout",
     "output_type": "stream",
     "text": [
      "RNN Init has been called...\n",
      "Iteration 1, loss = 0.69492319\n",
      "Iteration 2, loss = 0.69083510\n",
      "Iteration 3, loss = 0.68676165\n",
      "Iteration 4, loss = 0.68265889\n",
      "Iteration 5, loss = 0.67850460\n",
      "Iteration 6, loss = 0.67427796\n",
      "Iteration 7, loss = 0.66997365\n",
      "Iteration 8, loss = 0.66557789\n",
      "Iteration 9, loss = 0.66108946\n",
      "Iteration 10, loss = 0.65649914\n",
      "Iteration 11, loss = 0.65180839\n",
      "Iteration 12, loss = 0.64701847\n",
      "Iteration 13, loss = 0.64211491\n",
      "Iteration 14, loss = 0.63710821\n",
      "Iteration 15, loss = 0.63199893\n",
      "Iteration 16, loss = 0.62677448\n",
      "Iteration 17, loss = 0.62145696\n",
      "Iteration 18, loss = 0.61603012\n",
      "Iteration 19, loss = 0.61050524\n"
     ]
    },
    {
     "name": "stderr",
     "output_type": "stream",
     "text": [
      "/data/workspace/sapran/boosted_cascade/boosted_cascade/recurrent_network4.py:612: UserWarning: Training interrupted by user.\n",
      "  warnings.warn(\"Training interrupted by user.\")\n"
     ]
    },
    {
     "data": {
      "text/html": [
       "<style>#sk-container-id-4 {--sklearn-color-text: black;--sklearn-color-line: gray;--sklearn-color-background: white;--sklearn-color-background-box: #f0f8ff;--sklearn-color-border-box: black;--sklearn-color-icon: #696969;--sklearn-color-active: #d4ebff;--sklearn-color-highlight: #d4ebff;@media (prefers-color-scheme: dark) {--sklearn-color-text: white;--sklearn-color-line: gray;--sklearn-color-background: #111;--sklearn-color-background-box: #424242;--sklearn-color-border-box: white;--sklearn-color-icon: #878787;--sklearn-color-active: #616161;--sklearn-color-highlight: #616161;}}#sk-container-id-4 {color: var(--sklearn-color-text);}#sk-container-id-4 pre{padding: 0;}#sk-container-id-4 div.sk-toggleable {background-color: var(--sklearn-color-background);}#sk-container-id-4 label.sk-toggleable__label {cursor: pointer;display: block;width: 100%;margin-bottom: 0;padding: 0.3em;box-sizing: border-box;text-align: center;}#sk-container-id-4 label.sk-toggleable__label-arrow:before {content: \"▸\";float: left;margin-right: 0.25em;color: var(--sklearn-color-icon);}#sk-container-id-4 label.sk-toggleable__label-arrow:hover:before {color: var(--sklearn-color-text);}#sk-container-id-4 div.sk-estimator:hover label.sk-toggleable__label-arrow:before {color: var(--sklearn-color-text);}#sk-container-id-4 div.sk-toggleable__content {max-height: 0;max-width: 0;overflow: hidden;text-align: left;background-color: var(--sklearn-color-background-box);}#sk-container-id-4 div.sk-toggleable__content pre {margin: 0.2em;color: var(--sklearn-color-text);border-radius: 0.25em;background-color: var(--sklearn-color-background-box);}#sk-container-id-4 input.sk-toggleable__control:checked~div.sk-toggleable__content {max-height: 200px;max-width: 100%;overflow: auto;}#sk-container-id-4 input.sk-toggleable__control:checked~label.sk-toggleable__label-arrow:before {content: \"▾\";}#sk-container-id-4 div.sk-estimator input.sk-toggleable__control:checked~label.sk-toggleable__label {background-color: var(--sklearn-color-active);}#sk-container-id-4 div.sk-label input.sk-toggleable__control:checked~label.sk-toggleable__label {background-color: var(--sklearn-color-active);}#sk-container-id-4 input.sk-hidden--visually {border: 0;clip: rect(1px 1px 1px 1px);clip: rect(1px, 1px, 1px, 1px);height: 1px;margin: -1px;overflow: hidden;padding: 0;position: absolute;width: 1px;}#sk-container-id-4 div.sk-estimator {font-family: monospace;background-color: var(--sklearn-color-background-box);border: 1px dotted var(--sklearn-color-border-box);border-radius: 0.25em;box-sizing: border-box;margin-bottom: 0.5em;}#sk-container-id-4 div.sk-estimator:hover {background-color: var(--sklearn-color-highlight);}#sk-container-id-4 div.sk-parallel-item::after {content: \"\";width: 100%;border-bottom: 1px solid var(--sklearn-color-line);flex-grow: 1;}#sk-container-id-4 div.sk-label:hover label.sk-toggleable__label {background-color: var(--sklearn-color-highlight);}#sk-container-id-4 div.sk-serial::before {content: \"\";position: absolute;border-left: 1px solid var(--sklearn-color-line);box-sizing: border-box;top: 0;bottom: 0;left: 50%;z-index: 0;}#sk-container-id-4 div.sk-serial {display: flex;flex-direction: column;align-items: center;background-color: var(--sklearn-color-background);padding-right: 0.2em;padding-left: 0.2em;position: relative;}#sk-container-id-4 div.sk-item {position: relative;z-index: 1;}#sk-container-id-4 div.sk-parallel {display: flex;align-items: stretch;justify-content: center;background-color: var(--sklearn-color-background);position: relative;}#sk-container-id-4 div.sk-item::before, #sk-container-id-4 div.sk-parallel-item::before {content: \"\";position: absolute;border-left: 1px solid var(--sklearn-color-line);box-sizing: border-box;top: 0;bottom: 0;left: 50%;z-index: -1;}#sk-container-id-4 div.sk-parallel-item {display: flex;flex-direction: column;z-index: 1;position: relative;background-color: var(--sklearn-color-background);}#sk-container-id-4 div.sk-parallel-item:first-child::after {align-self: flex-end;width: 50%;}#sk-container-id-4 div.sk-parallel-item:last-child::after {align-self: flex-start;width: 50%;}#sk-container-id-4 div.sk-parallel-item:only-child::after {width: 0;}#sk-container-id-4 div.sk-dashed-wrapped {border: 1px dashed var(--sklearn-color-line);margin: 0 0.4em 0.5em 0.4em;box-sizing: border-box;padding-bottom: 0.4em;background-color: var(--sklearn-color-background);}#sk-container-id-4 div.sk-label label {font-family: monospace;font-weight: bold;display: inline-block;line-height: 1.2em;}#sk-container-id-4 div.sk-label-container {text-align: center;}#sk-container-id-4 div.sk-container {/* jupyter's `normalize.less` sets `[hidden] { display: none; }` but bootstrap.min.css set `[hidden] { display: none !important; }` so we also need the `!important` here to be able to override the default hidden behavior on the sphinx rendered scikit-learn.org. See: https://github.com/scikit-learn/scikit-learn/issues/21755 */display: inline-block !important;position: relative;}#sk-container-id-4 div.sk-text-repr-fallback {display: none;}</style><div id=\"sk-container-id-4\" class=\"sk-top-container\"><div class=\"sk-text-repr-fallback\"><pre>BiasedRecurrentClassifier(activation=[&#x27;tanh&#x27;, &#x27;identity&#x27;],\n",
       "                          hidden_layer_sizes=(20,), verbose=True)</pre><b>In a Jupyter environment, please rerun this cell to show the HTML representation or trust the notebook. <br />On GitHub, the HTML representation is unable to render, please try loading this page with nbviewer.org.</b></div><div class=\"sk-container\" hidden><div class=\"sk-item\"><div class=\"sk-estimator sk-toggleable\"><input class=\"sk-toggleable__control sk-hidden--visually\" id=\"sk-estimator-id-4\" type=\"checkbox\" checked><label for=\"sk-estimator-id-4\" class=\"sk-toggleable__label sk-toggleable__label-arrow\">BiasedRecurrentClassifier</label><div class=\"sk-toggleable__content\"><pre>BiasedRecurrentClassifier(activation=[&#x27;tanh&#x27;, &#x27;identity&#x27;],\n",
       "                          hidden_layer_sizes=(20,), verbose=True)</pre></div></div></div></div></div>"
      ],
      "text/plain": [
       "BiasedRecurrentClassifier(activation=['tanh', 'identity'],\n",
       "                          hidden_layer_sizes=(20,), verbose=True)"
      ]
     },
     "execution_count": 19,
     "metadata": {},
     "output_type": "execute_result"
    }
   ],
   "source": [
    "from recurrent_network4 import BiasedRecurrentClassifier\n",
    "\n",
    "\n",
    "clf = BiasedRecurrentClassifier(hidden_layer_sizes = (20,),activation=[\"tanh\",\"identity\"], max_iter=200,verbose=True)\n",
    "clf.fit(X, y.reshape((X.shape[0],X.shape[1],y.shape[1])), bias = np.zeros((X.shape[0],X.shape[1],20)))\n"
   ]
  },
  {
   "cell_type": "code",
   "execution_count": 16,
   "id": "0ef16a81-73a3-4f7a-ba2c-7619a1918585",
   "metadata": {},
   "outputs": [
    {
     "data": {
      "text/plain": [
       "0.9849624060150376"
      ]
     },
     "execution_count": 16,
     "metadata": {},
     "output_type": "execute_result"
    }
   ],
   "source": [
    "from scipy.special import expit as logistic_sigmoid\n",
    "from sklearn.metrics import accuracy_score\n",
    "\n",
    "y_pred = np.round(logistic_sigmoid(clf.predict_proba(X)[0])).astype(int).flatten()\n",
    "accuracy_score(y.flatten(),y_pred)"
   ]
  },
  {
   "cell_type": "code",
   "execution_count": null,
   "id": "5ea29835-2e85-4329-a3d5-2434677eef40",
   "metadata": {},
   "outputs": [],
   "source": [
    "clf.predict(X)[1]"
   ]
  },
  {
   "cell_type": "code",
   "execution_count": null,
   "id": "760fe985-9c84-4378-ad93-c3c19a449a9a",
   "metadata": {},
   "outputs": [],
   "source": [
    "y[2]"
   ]
  },
  {
   "cell_type": "code",
   "execution_count": null,
   "id": "e643a0ea-10db-410c-a39b-3ce0706141df",
   "metadata": {},
   "outputs": [],
   "source": []
  }
 ],
 "metadata": {
  "kernelspec": {
   "display_name": "Python 3 (ipykernel)",
   "language": "python",
   "name": "python3"
  },
  "language_info": {
   "codemirror_mode": {
    "name": "ipython",
    "version": 3
   },
   "file_extension": ".py",
   "mimetype": "text/x-python",
   "name": "python",
   "nbconvert_exporter": "python",
   "pygments_lexer": "ipython3",
   "version": "3.8.16"
  }
 },
 "nbformat": 4,
 "nbformat_minor": 5
}
